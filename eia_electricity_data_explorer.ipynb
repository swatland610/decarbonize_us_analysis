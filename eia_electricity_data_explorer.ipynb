{
 "cells": [
  {
   "cell_type": "code",
   "execution_count": 9,
   "metadata": {},
   "outputs": [],
   "source": [
    "import os\n",
    "import json\n",
    "import requests\n",
    "\n",
    "import pandas as pd\n",
    "import seaborn as sns\n",
    "\n",
    "### \n",
    "EIA_API_KEY = os.get_env('EIA_API_KEY')"
   ]
  },
  {
   "cell_type": "code",
   "execution_count": 27,
   "metadata": {},
   "outputs": [],
   "source": [
    "url = \"http://api.eia.gov/series/?api_key=\" + EIA_API_KEY + \"&series_id=ELEC.GEN.COW-IL-99.A\"\n",
    "\n",
    "response = requests.get(url)\n",
    "json_data = json.loads(response.text)"
   ]
  },
  {
   "cell_type": "code",
   "execution_count": 29,
   "metadata": {},
   "outputs": [
    {
     "data": {
      "text/plain": [
       "[['2020', 31237.85745],\n",
       " ['2019', 48788.32228],\n",
       " ['2018', 59641.9239],\n",
       " ['2017', 57980.2863],\n",
       " ['2016', 59337.80188],\n",
       " ['2015', 73773.70553],\n",
       " ['2014', 87282.39038],\n",
       " ['2013', 87927.13948],\n",
       " ['2012', 80826.77766],\n",
       " ['2011', 90013.32538],\n",
       " ['2010', 93611.36503],\n",
       " ['2009', 89966.8601],\n",
       " ['2008', 96644.0383],\n",
       " ['2007', 95264.9138],\n",
       " ['2006', 91648.76351],\n",
       " ['2005', 92265.18971],\n",
       " ['2004', 94401.62763],\n",
       " ['2003', 87981.349],\n",
       " ['2002', 86685.347],\n",
       " ['2001', 79550.637]]"
      ]
     },
     "execution_count": 29,
     "metadata": {},
     "output_type": "execute_result"
    }
   ],
   "source": [
    "json_data['series'][0]['data']"
   ]
  },
  {
   "cell_type": "code",
   "execution_count": 24,
   "metadata": {},
   "outputs": [
    {
     "data": {
      "text/plain": [
       "{'request': {'command': 'series', 'series_id': 'ELEC.GEN.COW-MI-99.A'},\n",
       " 'series': [{'series_id': 'ELEC.GEN.COW-MI-99.A',\n",
       "   'name': 'Net generation : coal : Michigan : all sectors : annual',\n",
       "   'units': 'thousand megawatthours',\n",
       "   'f': 'A',\n",
       "   'description': 'Summation of all types of coal; All sectors; ',\n",
       "   'copyright': 'None',\n",
       "   'source': 'EIA, U.S. Energy Information Administration',\n",
       "   'iso3166': 'USA-MI',\n",
       "   'geography': 'USA-MI',\n",
       "   'start': '2001',\n",
       "   'end': '2020',\n",
       "   'updated': '2022-01-26T12:38:51-0500',\n",
       "   'data': [['2020', 27961.02937],\n",
       "    ['2019', 37341.48948],\n",
       "    ['2018', 42330.86358],\n",
       "    ['2017', 42020.54769],\n",
       "    ['2016', 40526.87245],\n",
       "    ['2015', 52884.03272],\n",
       "    ['2014', 52899.84418],\n",
       "    ['2013', 56291.45283],\n",
       "    ['2012', 53136.43197],\n",
       "    ['2011', 58948.26918],\n",
       "    ['2010', 65604.37435],\n",
       "    ['2009', 66847.68327],\n",
       "    ['2008', 69855.43601],\n",
       "    ['2007', 70810.59868],\n",
       "    ['2006', 67780.16084],\n",
       "    ['2005', 70322.97564],\n",
       "    ['2004', 68606.01943],\n",
       "    ['2003', 67777.483],\n",
       "    ['2002', 66699.508],\n",
       "    ['2001', 68263.164]]}]}"
      ]
     },
     "execution_count": 24,
     "metadata": {},
     "output_type": "execute_result"
    }
   ],
   "source": []
  },
  {
   "cell_type": "code",
   "execution_count": null,
   "metadata": {},
   "outputs": [],
   "source": []
  }
 ],
 "metadata": {
  "kernelspec": {
   "display_name": "Python 3",
   "language": "python",
   "name": "python3"
  },
  "language_info": {
   "codemirror_mode": {
    "name": "ipython",
    "version": 3
   },
   "file_extension": ".py",
   "mimetype": "text/x-python",
   "name": "python",
   "nbconvert_exporter": "python",
   "pygments_lexer": "ipython3",
   "version": "3.8.6"
  }
 },
 "nbformat": 4,
 "nbformat_minor": 4
}
