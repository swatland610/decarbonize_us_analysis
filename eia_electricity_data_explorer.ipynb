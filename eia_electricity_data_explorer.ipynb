{
 "cells": [
  {
   "cell_type": "code",
   "execution_count": 45,
   "metadata": {},
   "outputs": [],
   "source": [
    "import os\n",
    "import json\n",
    "import requests\n",
    "import itertools\n",
    "\n",
    "import pandas as pd\n",
    "import seaborn as sns\n",
    "\n",
    "### \n",
    "EIA_API_KEY = os.getenv('EIA_API_KEY')"
   ]
  },
  {
   "cell_type": "code",
   "execution_count": 46,
   "metadata": {},
   "outputs": [],
   "source": [
    "# uncomment to run responses directly\n",
    "#url = \"http://api.eia.gov/series/?api_key=\" + EIA_API_KEY + \"&series_id=ELEC.GEN.COW-IL-99.A\"\n",
    "\n",
    "#response = requests.get(url)\n",
    "#json_data = json.loads(response.text)"
   ]
  },
  {
   "cell_type": "code",
   "execution_count": 47,
   "metadata": {},
   "outputs": [],
   "source": [
    "# read in electricity generation csv\n",
    "elec_generation = pd.read_csv('electricity_generation_extractor/us_electric_generation_2001_20.csv')"
   ]
  },
  {
   "cell_type": "code",
   "execution_count": 48,
   "metadata": {},
   "outputs": [],
   "source": [
    "il_elec_generation = elec_generation.loc[(elec_generation['state']=='IL') & (elec_generation['year']==2020)]"
   ]
  },
  {
   "cell_type": "code",
   "execution_count": 49,
   "metadata": {},
   "outputs": [],
   "source": [
    "# setting up something to determine what combo of columns == 'all_fuels'\n",
    "# subset columns\n",
    "gen_type_columns = []\n",
    "for col in il_elec_generation.columns:\n",
    "    if col in ['state', 'year', 'all_fuels']:\n",
    "        pass\n",
    "    else: \n",
    "        gen_type_columns.append(col)\n",
    "    "
   ]
  },
  {
   "cell_type": "code",
   "execution_count": 59,
   "metadata": {},
   "outputs": [],
   "source": [
    "# set target value to iterate through\n",
    "target = il_elec_generation['all_fuels'].values[0] # set different total based on what you're trying to find\n",
    "# creating all possible column combinations\n",
    "combo_list = []\n",
    "column_sequence = [combo_list.append(list(seq)) for i in range(len(gen_type_columns), 0, -1)\n",
    "                    for seq in list(itertools.combinations(gen_type_columns, i))]             "
   ]
  },
  {
   "cell_type": "code",
   "execution_count": 63,
   "metadata": {},
   "outputs": [],
   "source": [
    "# set values to just explore differences\n",
    "closest_diff = 1000000000 # set obnoxious value that I know is not possible \n",
    "closest_combo = None\n",
    "\n",
    "for combo in combo_list: \n",
    "    if il_elec_generation.loc[:, combo].values.sum() == target:\n",
    "        print(\"This combo matched the total\", combo)\n",
    "        \n",
    "    else: \n",
    "        if (target - il_elec_generation.loc[:, combo].values.sum() < closest_diff) & (target - il_elec_generation.loc[:, combo].values.sum() >0): \n",
    "            closest_diff = target - il_elec_generation.loc[:, combo].values.sum()\n",
    "            closest_combo = combo\n",
    "            \n"
   ]
  },
  {
   "cell_type": "code",
   "execution_count": 64,
   "metadata": {},
   "outputs": [
    {
     "name": "stdout",
     "output_type": "stream",
     "text": [
      "Combo had this difference from total 4.3472299999557436\n",
      "['coal', 'natural_gas', 'petro_liquids', 'petro_coke', 'nuclear', 'hydro_electric_storage', 'all_solar', 'utility_scale_solar', 'utility_scale_photovoltaic', 'other_renewables', 'geothermal', 'wood_fuels']\n"
     ]
    }
   ],
   "source": [
    "print(\"Combo had this difference from total\", closest_diff)\n",
    "print(closest_combo)"
   ]
  },
  {
   "cell_type": "code",
   "execution_count": 65,
   "metadata": {},
   "outputs": [
    {
     "data": {
      "text/html": [
       "<div>\n",
       "<style scoped>\n",
       "    .dataframe tbody tr th:only-of-type {\n",
       "        vertical-align: middle;\n",
       "    }\n",
       "\n",
       "    .dataframe tbody tr th {\n",
       "        vertical-align: top;\n",
       "    }\n",
       "\n",
       "    .dataframe thead th {\n",
       "        text-align: right;\n",
       "    }\n",
       "</style>\n",
       "<table border=\"1\" class=\"dataframe\">\n",
       "  <thead>\n",
       "    <tr style=\"text-align: right;\">\n",
       "      <th></th>\n",
       "      <th>state</th>\n",
       "      <th>year</th>\n",
       "      <th>all_fuels</th>\n",
       "      <th>coal</th>\n",
       "      <th>natural_gas</th>\n",
       "      <th>other_gas</th>\n",
       "      <th>petro_liquids</th>\n",
       "      <th>petro_coke</th>\n",
       "      <th>nuclear</th>\n",
       "      <th>hydro_electric</th>\n",
       "      <th>...</th>\n",
       "      <th>wind</th>\n",
       "      <th>utility_scale_solar</th>\n",
       "      <th>utility_scale_photovoltaic</th>\n",
       "      <th>small_scale_photovoltaic</th>\n",
       "      <th>other_renewables</th>\n",
       "      <th>utility_scale_thermal</th>\n",
       "      <th>geothermal</th>\n",
       "      <th>other_biomass</th>\n",
       "      <th>wood_fuels</th>\n",
       "      <th>other</th>\n",
       "    </tr>\n",
       "  </thead>\n",
       "  <tbody>\n",
       "    <tr>\n",
       "      <th>280</th>\n",
       "      <td>IL</td>\n",
       "      <td>2020</td>\n",
       "      <td>173394.5257</td>\n",
       "      <td>31237.85745</td>\n",
       "      <td>24516.13774</td>\n",
       "      <td>284.67241</td>\n",
       "      <td>30.31227</td>\n",
       "      <td>0.0</td>\n",
       "      <td>100246.068</td>\n",
       "      <td>134.981</td>\n",
       "      <td>...</td>\n",
       "      <td>16225.93984</td>\n",
       "      <td>78.94516</td>\n",
       "      <td>78.94516</td>\n",
       "      <td>427.05936</td>\n",
       "      <td>16695.90817</td>\n",
       "      <td>15.577</td>\n",
       "      <td>0.0</td>\n",
       "      <td>391.02316</td>\n",
       "      <td>0.0</td>\n",
       "      <td>248.58871</td>\n",
       "    </tr>\n",
       "  </tbody>\n",
       "</table>\n",
       "<p>1 rows × 22 columns</p>\n",
       "</div>"
      ],
      "text/plain": [
       "    state  year    all_fuels         coal  natural_gas  other_gas  \\\n",
       "280    IL  2020  173394.5257  31237.85745  24516.13774  284.67241   \n",
       "\n",
       "     petro_liquids  petro_coke     nuclear  hydro_electric  ...         wind  \\\n",
       "280       30.31227         0.0  100246.068         134.981  ...  16225.93984   \n",
       "\n",
       "     utility_scale_solar  utility_scale_photovoltaic  \\\n",
       "280             78.94516                    78.94516   \n",
       "\n",
       "     small_scale_photovoltaic  other_renewables  utility_scale_thermal  \\\n",
       "280                 427.05936       16695.90817                 15.577   \n",
       "\n",
       "     geothermal  other_biomass  wood_fuels      other  \n",
       "280         0.0      391.02316         0.0  248.58871  \n",
       "\n",
       "[1 rows x 22 columns]"
      ]
     },
     "execution_count": 65,
     "metadata": {},
     "output_type": "execute_result"
    }
   ],
   "source": [
    "il_elec_generation"
   ]
  },
  {
   "cell_type": "code",
   "execution_count": null,
   "metadata": {},
   "outputs": [],
   "source": []
  }
 ],
 "metadata": {
  "kernelspec": {
   "display_name": "Python 3",
   "language": "python",
   "name": "python3"
  },
  "language_info": {
   "codemirror_mode": {
    "name": "ipython",
    "version": 3
   },
   "file_extension": ".py",
   "mimetype": "text/x-python",
   "name": "python",
   "nbconvert_exporter": "python",
   "pygments_lexer": "ipython3",
   "version": "3.8.6"
  }
 },
 "nbformat": 4,
 "nbformat_minor": 4
}
