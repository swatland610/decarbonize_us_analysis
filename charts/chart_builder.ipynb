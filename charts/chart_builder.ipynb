{
 "cells": [
  {
   "cell_type": "code",
   "execution_count": 143,
   "metadata": {},
   "outputs": [],
   "source": [
    "import pandas as pd\n",
    "import numpy as np\n",
    "import matplotlib.pyplot as plt\n",
    "import seaborn as sns"
   ]
  },
  {
   "cell_type": "code",
   "execution_count": 33,
   "metadata": {},
   "outputs": [],
   "source": [
    "# grab csv data\n",
    "electric_gen = pd.read_csv('../electricity_generation_extractor/us_electric_generation_2001_20.csv')\n",
    "us_emissions = pd.read_csv('us_emissions_2000_2018.csv')"
   ]
  },
  {
   "cell_type": "code",
   "execution_count": 200,
   "metadata": {},
   "outputs": [],
   "source": [
    "# set emissions columns by sector\n",
    "emissions_columns = ['State', 'Year', 'emission_sub_electric', 'emission_by_industrial', 'emission_by_agriculture', 'emission_by_waste',\n",
    "                     'emission_by_forestry', 'emission_by_bunker_fuel', 'emission_sub_commercial', 'emission_sub_residential',\n",
    "                     'emission_sub_industrial', 'emission_sub_transportation', 'emission_sub_fugitive']\n",
    "\n",
    "ny_emissions = us_emissions.loc[(us_emissions['Year']>=2001) & (us_emissions['State']=='New York'), emissions_columns]\n",
    "il_emissions = us_emissions.loc[(us_emissions['Year']>=2001) & (us_emissions['State']=='Illinois'), emissions_columns]\n",
    "tx_emissions = us_emissions.loc[(us_emissions['Year']>=2001) & (us_emissions['State']=='Texas'), emissions_columns]"
   ]
  },
  {
   "cell_type": "code",
   "execution_count": 203,
   "metadata": {},
   "outputs": [],
   "source": [
    "# define function to perform the grouping calculations on a dataframe\n",
    "# returns the cleaned grouped df\n",
    "def group_df_by_emissions(emissions_data):\n",
    "    dirty_power = ['emission_sub_electric']\n",
    "    buildings = ['emission_sub_residential', 'emission_sub_commercial']\n",
    "    transportation = ['emission_sub_transportation']\n",
    "    dumps_farms_industrial = ['emission_by_waste', 'emission_sub_industrial', 'emission_by_agriculture']\n",
    "    fuels = ['emission_sub_fugitive', 'emission_by_bunker_fuel']\n",
    "\n",
    "    columns_list = [['dirty_power', dirty_power], \n",
    "                    ['buildings', buildings],\n",
    "                    ['transportation', transportation], \n",
    "                    ['dumps_farms_industrial', dumps_farms_industrial], \n",
    "                    ['fuels', fuels]]\n",
    "\n",
    "    # build each bucketed totals\n",
    "    for calc in columns_list: \n",
    "        emissions_data[calc[0]] = emissions_data.loc[:, calc[1]].sum(axis=1)\n",
    "    \n",
    "    # just rewrite a buckets list to concat through, sheer laziness here\n",
    "    buckets = ['dirty_power', 'buildings', 'transportation', 'dumps_farms_industrial'] # emitted fuels from the totals for now\n",
    "    # build the bucket % makeup for that year\n",
    "    for bucket in buckets:\n",
    "        emissions_data['%_'+bucket] = round(emissions_data[bucket] / emissions_data[buckets].sum(axis=1), 2) * 100\n",
    "\n",
    "    cols_to_keep = ['State', 'Year', '%_dirty_power', '%_buildings', '%_transportation', \n",
    "                    '%_dumps_farms_industrial']\n",
    "\n",
    "    return emissions_data[cols_to_keep]\n",
    "\n",
    "ny_emissions_chart_data = group_df_by_emissions(ny_emissions)\n",
    "il_emissions_chart_data = group_df_by_emissions(il_emissions)\n",
    "tx_emissions_chart_data = group_df_by_emissions(tx_emissions)\n"
   ]
  },
  {
   "cell_type": "code",
   "execution_count": 258,
   "metadata": {},
   "outputs": [],
   "source": [
    "def show_area_plot_over_years_emissions(emissions_data):\n",
    "    cols_to_keep = ['%_dirty_power', '%_buildings', '%_transportation', '%_dumps_farms_industrial']\n",
    "    \n",
    "    emissions_data.index = emissions_data['Year']\n",
    "    bottom = np.zeros(len(emissions_data))\n",
    "\n",
    "    fig , ax = plt.subplots()\n",
    "\n",
    "    for i, col in enumerate(emissions_data[cols_to_keep]):\n",
    "        ax.bar(\n",
    "            emissions_data.index, \n",
    "            emissions_data[col],\n",
    "            bottom=bottom)\n",
    "        bottom += np.array(emissions_data[col])\n",
    "\n",
    "    \n",
    "    y_offset = -5\n",
    "    for bar in ax.patches:\n",
    "        ax.text(\n",
    "            # Put the text in the middle of each bar. get_x returns the start\n",
    "            # so we add half the width to get to the middle.\n",
    "            bar.get_x() + bar.get_width() / 2,\n",
    "            # Vertically, add the height of the bar to the start of the bar,\n",
    "            # along with the offset.\n",
    "            bar.get_height() + bar.get_y() + y_offset,\n",
    "            # This is actual value we'll show.\n",
    "            str(round(int(bar.get_height()))) + \"%\",\n",
    "            # Center the labels and style them a bit.\n",
    "            ha='center',\n",
    "            color='w',\n",
    "            weight='bold',\n",
    "            size=10\n",
    "        )\n",
    "\n",
    "    plt.xlabel('Year')\n",
    "    plt.xticks(emissions_data.index, rotation=0)\n",
    "\n",
    "    plt.ylabel('% of Emissions')\n",
    "    \n",
    "\n",
    "    legend_label = ['dirty power', 'buildings', 'transportation', 'dumps, farms, industrial']\n",
    "    plt.legend(legend_label, ncol = 4, bbox_to_anchor=([1, 1.05, 0, 0]), frameon = False)\n",
    "    plt.title('{} emissions from 2001 - 2018\\n'.format(emissions_data['State'].unique()[0]),loc='left')\n",
    "\n",
    "    fig.set_size_inches(11.5, 8.5)\n",
    "    plt.savefig('{}_emissions_2001-18.png'.format(emissions_data['State'].unique()[0]))\n",
    "    plt.show()"
   ]
  },
  {
   "cell_type": "code",
   "execution_count": 262,
   "metadata": {},
   "outputs": [],
   "source": [
    "# uncomment to show emissions plots\n",
    "# this is assuming you've filtered down to one state per chart\n",
    "# show_area_plot_over_years_emissions(tx_emissions_chart_data)\n"
   ]
  },
  {
   "cell_type": "code",
   "execution_count": 217,
   "metadata": {},
   "outputs": [],
   "source": [
    "### let's do a similar thing with generation data\n",
    "# subset our 3 states for now\n",
    "target_cols = ['state', 'year', 'coal', 'natural_gas', 'petro_liquids', 'nuclear', 'hydro_electric', 'all_solar', 'wind']\n",
    "\n",
    "ny_electric_gen = electric_gen.loc[electric_gen['state']=='NY', target_cols]\n",
    "il_electric_gen = electric_gen.loc[electric_gen['state']=='IL', target_cols]\n",
    "tx_electric_gen = electric_gen.loc[electric_gen['state']=='TX', target_cols]"
   ]
  },
  {
   "cell_type": "code",
   "execution_count": 218,
   "metadata": {},
   "outputs": [],
   "source": [
    "# define function to perform the grouping calculations on a dataframe\n",
    "# returns the cleaned grouped df\n",
    "def group_df_by_generation(generation_data):\n",
    "    columns_list = ['coal', 'natural_gas', 'petro_liquids', 'nuclear', 'hydro_electric', 'all_solar', 'wind']\n",
    "\n",
    "    # build each bucketed totals\n",
    "    for calc in columns_list: \n",
    "        generation_data[calc+'_%'] = round(generation_data[calc] / generation_data[columns_list].sum(axis=1), 2) * 100\n",
    "\n",
    "    return generation_data\n",
    "\n",
    "ny_generation_chart_data = group_df_by_generation(ny_electric_gen)\n",
    "il_generation_chart_data = group_df_by_generation(il_electric_gen)\n",
    "tx_generation_chart_data = group_df_by_generation(tx_electric_gen)\n"
   ]
  },
  {
   "cell_type": "code",
   "execution_count": 251,
   "metadata": {},
   "outputs": [],
   "source": [
    "def show_area_plot_over_years_generation(generation_data):\n",
    "    cols_to_keep = ['coal_%', 'natural_gas_%', 'petro_liquids_%', 'nuclear_%', 'hydro_electric_%', 'all_solar_%', 'wind_%']\n",
    "    \n",
    "    generation_data.index = generation_data['year']\n",
    "    bottom = np.zeros(len(generation_data))\n",
    "\n",
    "    fig , ax = plt.subplots()\n",
    "\n",
    "    for i, col in enumerate(generation_data[cols_to_keep]):\n",
    "        ax.bar(\n",
    "            generation_data.index, \n",
    "            generation_data[col],\n",
    "            bottom=bottom)\n",
    "        bottom += np.array(generation_data[col])\n",
    "\n",
    "    \n",
    "    y_offset = -5\n",
    "    for bar in ax.patches:\n",
    "        ax.text(\n",
    "            # Put the text in the middle of each bar. get_x returns the start\n",
    "            # so we add half the width to get to the middle.\n",
    "            bar.get_x() + bar.get_width() / 2,\n",
    "            # Vertically, add the height of the bar to the start of the bar,\n",
    "            # along with the offset.\n",
    "            bar.get_height() + bar.get_y() + y_offset,\n",
    "            # This is actual value we'll show.\n",
    "            str(round(int(bar.get_height()))) + \"%\" if bar.get_height() >= 10 else '',\n",
    "            # Center the labels and style them a bit.\n",
    "            ha='center',\n",
    "            color='w',\n",
    "            weight='bold',\n",
    "            size=10\n",
    "        )\n",
    "\n",
    "    plt.xlabel('Year')\n",
    "    plt.xticks(generation_data.index, rotation=0)\n",
    "\n",
    "    plt.ylabel('% of Electricity Generation (tMW hours)')\n",
    "    \n",
    "\n",
    "    legend_label = ['coal', 'natural gas', 'petro liquids', 'nuclear', 'hydro electric', 'solar', 'wind']\n",
    "    plt.legend(legend_label, ncol = 7, bbox_to_anchor=([1, 1.05, 0, 0]), frameon = False)\n",
    "    plt.title('{} Elec generation from 2001 - 2020\\n'.format(generation_data['state'].unique()[0]),loc='left')\n",
    "\n",
    "    fig.set_size_inches(11.5, 8.5)\n",
    "    plt.savefig('{}_elec_gen_2001-20.png'.format(generation_data['state'].unique()[0]))\n",
    "    plt.show()"
   ]
  },
  {
   "cell_type": "code",
   "execution_count": 263,
   "metadata": {},
   "outputs": [],
   "source": [
    "#show_area_plot_over_years_generation(tx_generation_chart_data)"
   ]
  }
 ],
 "metadata": {
  "interpreter": {
   "hash": "752579dbebe7f4dfe7c1aa72eac13e23fc88be2cc1ea7ab14e1f8d69b2d97d12"
  },
  "kernelspec": {
   "display_name": "Python 3.8.6 64-bit",
   "language": "python",
   "name": "python3"
  },
  "language_info": {
   "codemirror_mode": {
    "name": "ipython",
    "version": 3
   },
   "file_extension": ".py",
   "mimetype": "text/x-python",
   "name": "python",
   "nbconvert_exporter": "python",
   "pygments_lexer": "ipython3",
   "version": "3.8.6"
  },
  "orig_nbformat": 4
 },
 "nbformat": 4,
 "nbformat_minor": 2
}
